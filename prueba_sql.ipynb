{
 "cells": [
  {
   "cell_type": "markdown",
   "metadata": {},
   "source": [
    "## Introduccion"
   ]
  },
  {
   "cell_type": "markdown",
   "metadata": {},
   "source": [
    "**Contexto:** trabajas para una empresa que vende equipos deportivos para actividades al aire libre en varias ubicaciones. La compañía ha estado registrando las ventas de diferentes lugares en varios productos.\n",
    "\n",
    "Como Data Analyst , se le asignó la tarea de explorar una base de datos SQLite y obtener información al respecto."
   ]
  },
  {
   "cell_type": "markdown",
   "metadata": {},
   "source": [
    "## Resumen de los datos"
   ]
  },
  {
   "cell_type": "markdown",
   "metadata": {},
   "source": [
    "Vamos a utilizar AdventureWorks DB de Microsoft. La documentación completa de la base de datos se puede encontrar [aquí](https://dataedo.com/download/AdventureWorks.pdf). Sin embargo, vamos a utilizar una pequeña parte de dicha base de datos, que se describe en la siguiente sección:\n",
    "\n",
    "\n",
    "**Product Tables:**\n",
    "* **Product**: one row per product that the company sells\n",
    "* **ProductReview**: one row per rating and review left by customers\n",
    "* **ProductModelProductDescriptionCulture**: a link between products and their longer descriptions also indicating a \"culture\" - which language and region the product is for\n",
    "* **ProductDescription**: a longer description of each product, for a specific region\n",
    "* **ProductCategory**: the broad categories that products fit into\n",
    "* **ProductSubCategory**: the narrower subcategories that products fit into\n",
    "\n",
    "**Sales Tables:**\n",
    "* **SalesPerson**: one row per salesperson, including information on their commission and performance\n",
    "* **SalesOrderHeader**: one row per sale summarizing the sale\n",
    "* **SalesOrderDetail**: many rows per sale, detailing each product that forms part of the sale\n",
    "* **SalesTerritory**: the different territories where products are sold, including performance\n",
    "\n",
    "**Region Tables:**\n",
    "* **CountryRegionCurrency**: the currency used by each region\n",
    "* **CurrencyRate**: the average and closing exchange rates for each currency compared to the USD"
   ]
  },
  {
   "cell_type": "markdown",
   "metadata": {},
   "source": [
    "### Importante\n",
    "Debe ejecutar SQL directamente en una base de datos SQLite, instale los requisitos a continuación"
   ]
  },
  {
   "cell_type": "code",
   "execution_count": 1,
   "metadata": {},
   "outputs": [
    {
     "name": "stdout",
     "output_type": "stream",
     "text": [
      "Collecting ibm_db_sa\n",
      "  Downloading ibm_db_sa-0.3.8-py3-none-any.whl (30 kB)\n",
      "Requirement already satisfied: sqlalchemy>=0.7.3 in c:\\users\\adriana.abad\\anaconda3\\lib\\site-packages (from ibm_db_sa) (1.3.20)\n",
      "Collecting ibm-db>=2.0.0\n",
      "  Downloading ibm_db-3.1.3.tar.gz (1.4 MB)\n",
      "  Installing build dependencies: started\n",
      "  Installing build dependencies: finished with status 'done'\n",
      "  Getting requirements to build wheel: started\n",
      "  Getting requirements to build wheel: finished with status 'done'\n",
      "  Installing backend dependencies: started\n",
      "  Installing backend dependencies: finished with status 'done'\n",
      "    Preparing wheel metadata: started\n",
      "    Preparing wheel metadata: finished with status 'done'\n",
      "Building wheels for collected packages: ibm-db\n",
      "  Building wheel for ibm-db (PEP 517): started\n",
      "  Building wheel for ibm-db (PEP 517): finished with status 'done'\n",
      "  Created wheel for ibm-db: filename=ibm_db-3.1.3-py3-none-any.whl size=29935883 sha256=710c7700e666d29f244a186b2e3a33b05b01f5e13c60e782383163011c32453c\n",
      "  Stored in directory: c:\\users\\adriana.abad\\appdata\\local\\pip\\cache\\wheels\\43\\a0\\e3\\695f8fabac5b44c3469d01bbad1b0d0279dfc54cdcd4ba6cc9\n",
      "Successfully built ibm-db\n",
      "Installing collected packages: ibm-db, ibm-db-sa\n",
      "Successfully installed ibm-db-3.1.3 ibm-db-sa-0.3.8\n",
      "Collecting ipython-sql\n",
      "  Downloading ipython_sql-0.4.1-py3-none-any.whl (21 kB)\n",
      "Requirement already satisfied: sqlalchemy>=0.6.7 in c:\\users\\adriana.abad\\anaconda3\\lib\\site-packages (from ipython-sql) (1.3.20)\n",
      "Requirement already satisfied: ipython>=1.0 in c:\\users\\adriana.abad\\anaconda3\\lib\\site-packages (from ipython-sql) (7.19.0)\n",
      "Requirement already satisfied: sqlparse in c:\\users\\adriana.abad\\anaconda3\\lib\\site-packages (from ipython-sql) (0.3.1)\n",
      "Collecting prettytable<1\n",
      "  Downloading prettytable-0.7.2.tar.bz2 (21 kB)\n",
      "Requirement already satisfied: ipython-genutils>=0.1.0 in c:\\users\\adriana.abad\\anaconda3\\lib\\site-packages (from ipython-sql) (0.2.0)\n",
      "Requirement already satisfied: six in c:\\users\\adriana.abad\\anaconda3\\lib\\site-packages (from ipython-sql) (1.15.0)\n",
      "Requirement already satisfied: pygments in c:\\users\\adriana.abad\\anaconda3\\lib\\site-packages (from ipython>=1.0->ipython-sql) (2.7.2)\n",
      "Requirement already satisfied: traitlets>=4.2 in c:\\users\\adriana.abad\\anaconda3\\lib\\site-packages (from ipython>=1.0->ipython-sql) (5.0.5)\n",
      "Requirement already satisfied: jedi>=0.10 in c:\\users\\adriana.abad\\anaconda3\\lib\\site-packages (from ipython>=1.0->ipython-sql) (0.17.1)\n",
      "Requirement already satisfied: pickleshare in c:\\users\\adriana.abad\\anaconda3\\lib\\site-packages (from ipython>=1.0->ipython-sql) (0.7.5)\n",
      "Requirement already satisfied: setuptools>=18.5 in c:\\users\\adriana.abad\\anaconda3\\lib\\site-packages (from ipython>=1.0->ipython-sql) (50.3.1.post20201107)\n",
      "Requirement already satisfied: decorator in c:\\users\\adriana.abad\\anaconda3\\lib\\site-packages (from ipython>=1.0->ipython-sql) (4.4.2)\n",
      "Requirement already satisfied: backcall in c:\\users\\adriana.abad\\anaconda3\\lib\\site-packages (from ipython>=1.0->ipython-sql) (0.2.0)\n",
      "Requirement already satisfied: colorama; sys_platform == \"win32\" in c:\\users\\adriana.abad\\anaconda3\\lib\\site-packages (from ipython>=1.0->ipython-sql) (0.4.4)\n",
      "Requirement already satisfied: prompt-toolkit!=3.0.0,!=3.0.1,<3.1.0,>=2.0.0 in c:\\users\\adriana.abad\\anaconda3\\lib\\site-packages (from ipython>=1.0->ipython-sql) (3.0.8)\n",
      "Requirement already satisfied: parso<0.8.0,>=0.7.0 in c:\\users\\adriana.abad\\anaconda3\\lib\\site-packages (from jedi>=0.10->ipython>=1.0->ipython-sql) (0.7.0)\n",
      "Requirement already satisfied: wcwidth in c:\\users\\adriana.abad\\anaconda3\\lib\\site-packages (from prompt-toolkit!=3.0.0,!=3.0.1,<3.1.0,>=2.0.0->ipython>=1.0->ipython-sql) (0.2.5)\n",
      "Building wheels for collected packages: prettytable\n",
      "  Building wheel for prettytable (setup.py): started\n",
      "  Building wheel for prettytable (setup.py): finished with status 'done'\n",
      "  Created wheel for prettytable: filename=prettytable-0.7.2-py3-none-any.whl size=13705 sha256=47659798ecd3ae18e3d9b4d0c52cbeb81e3a485bf8869f81d87175c2d6bc4d70\n",
      "  Stored in directory: c:\\users\\adriana.abad\\appdata\\local\\pip\\cache\\wheels\\46\\60\\6c\\bb25d05df22906786206e901e9354bb3061061191116768bee\n",
      "Successfully built prettytable\n",
      "Installing collected packages: prettytable, ipython-sql\n",
      "Successfully installed ipython-sql-0.4.1 prettytable-0.7.2\n"
     ]
    }
   ],
   "source": [
    "# !pip install sqlalchemy==1.3.9\n",
    "!pip install ibm_db_sa\n",
    "!pip install ipython-sql\n",
    "import sqlite3\n",
    "from sqlite3 import Error\n",
    "%load_ext sql\n",
    "%sql sqlite:///sqlite-db-012022.db"
   ]
  },
  {
   "cell_type": "markdown",
   "metadata": {},
   "source": [
    "OBJETIVOS:\n",
    "\n",
    "Leer: https://airflow.apache.org/docs/apache-airflow/stable/howto/set-config.html\n",
    "\n",
    "Conectarme a la bbdd localmente\n",
    "\n",
    "Realizar algunos analisis (con pandas)\n",
    "\n",
    "Realizar una prediccion simple (regresion - importar librerias de data science (numpy))\n",
    "\n",
    "Escribir en una tabla de la bbdd el resultado de algunas operaciones\n"
   ]
  },
  {
   "cell_type": "markdown",
   "metadata": {},
   "source": [
    "## 1"
   ]
  },
  {
   "cell_type": "markdown",
   "metadata": {},
   "source": [
    "Encuentre los productos más populares entre los clientes, use el promedio como calificación para cada venta de un producto en particular. Limite los mejores productos a 5"
   ]
  },
  {
   "cell_type": "markdown",
   "metadata": {
    "tags": [
     "ans_st"
    ]
   },
   "source": [
    "**Answer.**"
   ]
  },
  {
   "cell_type": "code",
   "execution_count": null,
   "metadata": {},
   "outputs": [],
   "source": [
    "conexion = sqlite3.connect(\"sqlite-db-012022.db\");\n",
    "cursor = conexion.cursor();\n",
    "cursor.execute(\"SELECT * FROM salesorderdetail limit 10\");\n",
    "for fila in cursor.fetchall():\n",
    " print(fila)\n",
    "conexion.close()"
   ]
  },
  {
   "cell_type": "markdown",
   "metadata": {},
   "source": [
    "Por favor explique cualquier comportamiento inesperado"
   ]
  },
  {
   "cell_type": "markdown",
   "metadata": {
    "tags": [
     "10_min"
    ]
   },
   "source": [
    "### 2\n",
    "\n",
    "Encuentre los cinco vendedores con mejor rendimiento utilizando la columna de ventas del año hasta la fecha `salesytd`. Obtenga solo el `businessentityid`. (Solo necesitamos conocer el campo `businessentityid`. ¿Qué opina sobre estos números?"
   ]
  },
  {
   "cell_type": "markdown",
   "metadata": {
    "tags": [
     "ans_st"
    ]
   },
   "source": [
    "**Answer.**"
   ]
  },
  {
   "cell_type": "code",
   "execution_count": null,
   "metadata": {
    "scrolled": true
   },
   "outputs": [],
   "source": [
    "raise NotImplementedError"
   ]
  },
  {
   "cell_type": "markdown",
   "metadata": {
    "tags": [
     "15_min"
    ]
   },
   "source": [
    "### 3:\n",
    "\n",
    "Usando ```salesorderheader```, encuentre los 5 mejores vendedores que realizaron la mayor cantidad de ventas en 2014 usando la columna `subtotal` . Excluir ventas sin vendedor."
   ]
  },
  {
   "cell_type": "markdown",
   "metadata": {
    "tags": [
     "ans_st"
    ]
   },
   "source": [
    "**Answer.**"
   ]
  },
  {
   "cell_type": "code",
   "execution_count": null,
   "metadata": {},
   "outputs": [],
   "source": [
    "raise NotImplementedError"
   ]
  },
  {
   "cell_type": "markdown",
   "metadata": {
    "tags": [
     "30_min"
    ]
   },
   "source": [
    "### 4:\n",
    "\n",
    "Calcule el `subtotal` manualmente a partir de las tablas: ```salesorderdetail``` y ```salesorderheader```. calcule las ventas de cada vendedor en 2014 y filtre los 5 mejores vendedores."
   ]
  },
  {
   "cell_type": "markdown",
   "metadata": {
    "tags": [
     "ans_st"
    ]
   },
   "source": [
    "**Answer.**"
   ]
  },
  {
   "cell_type": "markdown",
   "metadata": {},
   "source": [
    "-------"
   ]
  },
  {
   "cell_type": "code",
   "execution_count": null,
   "metadata": {},
   "outputs": [],
   "source": [
    "raise NotImplementedError"
   ]
  },
  {
   "cell_type": "markdown",
   "metadata": {
    "tags": [
     "20_min"
    ]
   },
   "source": [
    "### 5:\n",
    "\n",
    "Use the tables: `countryregioncurrency`, `salesperson` and `salesterritory` to get the corresponding currency asociated with the top salespeople"
   ]
  },
  {
   "cell_type": "markdown",
   "metadata": {
    "tags": [
     "ans_st"
    ]
   },
   "source": [
    "**Answer.**"
   ]
  },
  {
   "cell_type": "markdown",
   "metadata": {},
   "source": [
    "-------"
   ]
  },
  {
   "cell_type": "code",
   "execution_count": null,
   "metadata": {},
   "outputs": [],
   "source": [
    "raise NotImplementedError"
   ]
  },
  {
   "cell_type": "markdown",
   "metadata": {
    "tags": [
     "45_min"
    ]
   },
   "source": [
    "### Bonus:\n",
    "\n",
    "Reutiliza tu código del punto anterior para tener en cuenta el cambio de moneda. Las tasas en la tabla ```currencyrate``` siempre van de `FromCurrencyCode=USD` a `ToCurrencyCode=<Desired Currency Code>`, y se enumeran todos los días. Cuando calcule los totales de las líneas, use la `AverageRate` para ese día.\n"
   ]
  },
  {
   "cell_type": "markdown",
   "metadata": {
    "tags": [
     "ans_st"
    ]
   },
   "source": [
    "**Answer.**"
   ]
  },
  {
   "cell_type": "markdown",
   "metadata": {},
   "source": [
    "-------"
   ]
  },
  {
   "cell_type": "code",
   "execution_count": null,
   "metadata": {},
   "outputs": [],
   "source": [
    "raise NotImplementedError"
   ]
  },
  {
   "cell_type": "markdown",
   "metadata": {},
   "source": [
    "## Attribution\n",
    "\n",
    "\"AdventureWorks database\", Nov 7, 2017, Microsoft Corporation, [MIT License](https://docs.microsoft.com/en-us/sql/samples/sql-samples-where-are?view=sql-server-ver15), https://github.com/microsoft/sql-server-samples/tree/master/samples/databases/adventure-works"
   ]
  },
  {
   "cell_type": "markdown",
   "metadata": {},
   "source": [
    "Futuros objetivos:\n",
    "\n",
    "Conectarme a las tablas de bigquery \n",
    "\n",
    "Realizar analisis \n",
    "\n",
    "Dejar los resultados en otra tabla "
   ]
  },
  {
   "cell_type": "markdown",
   "metadata": {},
   "source": []
  },
  {
   "cell_type": "markdown",
   "metadata": {},
   "source": []
  }
 ],
 "metadata": {
  "c1_recart": "6.9.0-57c20131aabc1dc2a8c675852d80a7da",
  "kernelspec": {
   "display_name": "Python 3.8.5 ('base')",
   "language": "python",
   "name": "python3"
  },
  "language_info": {
   "codemirror_mode": {
    "name": "ipython",
    "version": 3
   },
   "file_extension": ".py",
   "mimetype": "text/x-python",
   "name": "python",
   "nbconvert_exporter": "python",
   "pygments_lexer": "ipython3",
   "version": "3.8.5"
  },
  "varInspector": {
   "cols": {
    "lenName": 16,
    "lenType": 16,
    "lenVar": 40
   },
   "kernels_config": {
    "python": {
     "delete_cmd_postfix": "",
     "delete_cmd_prefix": "del ",
     "library": "var_list.py",
     "varRefreshCmd": "print(var_dic_list())"
    },
    "r": {
     "delete_cmd_postfix": ") ",
     "delete_cmd_prefix": "rm(",
     "library": "var_list.r",
     "varRefreshCmd": "cat(var_dic_list()) "
    }
   },
   "types_to_exclude": [
    "module",
    "function",
    "builtin_function_or_method",
    "instance",
    "_Feature"
   ],
   "window_display": false
  },
  "vscode": {
   "interpreter": {
    "hash": "3bbd41cb000c4c9b6cf3c581c9ad19db8503df339f00fa23f97f5b441ebcb669"
   }
  }
 },
 "nbformat": 4,
 "nbformat_minor": 4
}
